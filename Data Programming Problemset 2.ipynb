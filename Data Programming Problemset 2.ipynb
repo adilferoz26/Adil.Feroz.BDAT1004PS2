{
 "cells": [
  {
   "cell_type": "markdown",
   "metadata": {},
   "source": [
    "# Question 1\n",
    "Consider the following Python module: After importing the module into the interpreter, you execute: >>> b()\n",
    "b()\n",
    "b()\n",
    "a\n",
    "What value is displayed when the last expression (a) is evaluated? Explain your answer by indicating what happens in every executed statement."
   ]
  },
  {
   "cell_type": "code",
   "execution_count": null,
   "metadata": {},
   "outputs": [],
   "source": [
    "a = 0 #Initiating a variiable \"a\"\n",
    "def b(): #Definig a function \"b\"\n",
    "    global a #Declaring \"a\" as a global variable\n",
    "    a = c(a) #c(a) will give the value of \"a\" when the function b() is called\n",
    "def c(a): #Defining a function \"c\" which returns 0+2 as \"a\" was given a value 0 while also declaring it a global variable\n",
    "    return a + 2"
   ]
  },
  {
   "cell_type": "code",
   "execution_count": 17,
   "metadata": {},
   "outputs": [],
   "source": [
    "b()"
   ]
  },
  {
   "cell_type": "code",
   "execution_count": 18,
   "metadata": {},
   "outputs": [
    {
     "data": {
      "text/plain": [
       "2"
      ]
     },
     "execution_count": 18,
     "metadata": {},
     "output_type": "execute_result"
    }
   ],
   "source": [
    "a #After executing the function b() first time, the value of 'a' that was initiated as 0, is imcremented by 2, as we have declared 'a' as global variable, function c(a) is called inside b(), sincle the value of global 'a' is 0, c(a) returns the value 0+2 which is made eqaul to the variable 'a'."
   ]
  },
  {
   "cell_type": "code",
   "execution_count": 19,
   "metadata": {},
   "outputs": [],
   "source": [
    "b()"
   ]
  },
  {
   "cell_type": "code",
   "execution_count": 20,
   "metadata": {},
   "outputs": [
    {
     "data": {
      "text/plain": [
       "4"
      ]
     },
     "execution_count": 20,
     "metadata": {},
     "output_type": "execute_result"
    }
   ],
   "source": [
    "a #Since the value of 'a' was 2 after the first function call, now by following the same logic as above, the value of 'a' is again incremented by 2 and now 'a' is equal to 4"
   ]
  },
  {
   "cell_type": "code",
   "execution_count": 21,
   "metadata": {},
   "outputs": [],
   "source": [
    "b()"
   ]
  },
  {
   "cell_type": "code",
   "execution_count": 22,
   "metadata": {},
   "outputs": [
    {
     "data": {
      "text/plain": [
       "6"
      ]
     },
     "execution_count": 22,
     "metadata": {},
     "output_type": "execute_result"
    }
   ],
   "source": [
    "a #After the third function call, the value of 'a' is 6. "
   ]
  },
  {
   "cell_type": "markdown",
   "metadata": {},
   "source": [
    "_______________________________________________________________________________________________________________________________"
   ]
  },
  {
   "cell_type": "markdown",
   "metadata": {},
   "source": [
    "# Question 2\n",
    "Function fileLength(), given to you, takes the name of a file as input and returns the length of the file. If the file cannot be found by the interpreter or if it cannot be read as a text file, an exception will be raised. Modify function fileLength() so that a friendly message is printed instead:"
   ]
  },
  {
   "cell_type": "code",
   "execution_count": 48,
   "metadata": {},
   "outputs": [],
   "source": [
    "def file_length(file_name): #defining a function\n",
    "    try:  \n",
    "        file = open(file_name) #using try method, we'll try to open the file\n",
    "        contents = file.read()\n",
    "        file.close()\n",
    "        print(len(contents))\n",
    "    except:\n",
    "        print('The file with name \"' + file_name + '\" was not found') #if the try method doesn't work, the program will jump to except and print a neat message"
   ]
  },
  {
   "cell_type": "code",
   "execution_count": 36,
   "metadata": {},
   "outputs": [
    {
     "data": {
      "text/plain": [
       "'C:\\\\Users\\\\adilf'"
      ]
     },
     "execution_count": 36,
     "metadata": {},
     "output_type": "execute_result"
    }
   ],
   "source": [
    "pwd #Chcecking the directory"
   ]
  },
  {
   "cell_type": "code",
   "execution_count": 38,
   "metadata": {},
   "outputs": [
    {
     "name": "stdout",
     "output_type": "stream",
     "text": [
      "C:\\Users\\adilf\\Desktop\n"
     ]
    }
   ],
   "source": [
    "cd \\Users\\adilf\\Desktop #Changing the directory"
   ]
  },
  {
   "cell_type": "code",
   "execution_count": 39,
   "metadata": {},
   "outputs": [
    {
     "data": {
      "text/plain": [
       "'C:\\\\Users\\\\adilf\\\\Desktop'"
      ]
     },
     "execution_count": 39,
     "metadata": {},
     "output_type": "execute_result"
    }
   ],
   "source": [
    "pwd #Confirmming the change of directory"
   ]
  },
  {
   "cell_type": "code",
   "execution_count": 46,
   "metadata": {},
   "outputs": [
    {
     "name": "stdout",
     "output_type": "stream",
     "text": [
      "576\n"
     ]
    }
   ],
   "source": [
    "file_length('Question 2.txt') #Callling the function, Question 2.txt is a file, present in desktop directory"
   ]
  },
  {
   "cell_type": "code",
   "execution_count": 49,
   "metadata": {},
   "outputs": [
    {
     "name": "stdout",
     "output_type": "stream",
     "text": [
      "The file with name \"Question 2.pdf\" was not found\n"
     ]
    }
   ],
   "source": [
    "file_length('Question 2.pdf') #Callling the function again, Question 2.pdf doesn't exist in desktop directory"
   ]
  },
  {
   "cell_type": "markdown",
   "metadata": {},
   "source": [
    "_______________________________________________________________________________________________________________________________"
   ]
  },
  {
   "cell_type": "markdown",
   "metadata": {},
   "source": [
    "# Question 3\n",
    "Write a class named Marsupial that can be used as shown below: >>> m = Marsupial() >>> m.put_in_pouch('doll') >>> m.put_in_pouch('firetruck') >>> m.put_in_pouch('kitten') >>> m.pouch_contents() ['doll', 'firetruck', 'kitten']\n",
    "Now write a class named Kangaroo as a subclass of Marsupial that inherits all the attributes of Marsupial and also:\n",
    "a. extends the Marsupial __init__ constructor to take, as input, the coordinates x and y of the Kangaroo object,\n",
    "b. supports method jump that takes number values dx and dy as input and moves the kangaroo by dx units along the x-axis and by dy units along the y-axis, and\n",
    "c. overloads the __str__ operator so it behaves as shown below."
   ]
  },
  {
   "cell_type": "code",
   "execution_count": 50,
   "metadata": {},
   "outputs": [],
   "source": [
    "class Marsupial: #Defining a class Marsupial\n",
    "    def __init__(self): \n",
    "        self.data = [] \n",
    "\n",
    "    def put_in_pouch(self,thing): #defining a function put_in_pouch\n",
    "        self.data.append(thing) #storing the entered value in thing\n",
    "\n",
    "    def pouch_contents(self):\n",
    "        return self.data\n",
    "\n",
    "class Kangaroo(Marsupial): #Defining a class Kangaroo\n",
    "    def __init__(self,x,y):\n",
    "        self.x = x\n",
    "        self.y = y\n",
    "        Marsupial.__init__(self)\n",
    "\n",
    "    def __str__(self):\n",
    "        return \"I am a Kangaroo located at coordinates ({},{})\".format(self.x, self.y)\n",
    "\n",
    "    def jump(self, dx,dy):\n",
    "        self.x += dx\n",
    "        self.y += dy"
   ]
  },
  {
   "cell_type": "code",
   "execution_count": 51,
   "metadata": {},
   "outputs": [],
   "source": [
    "m = Marsupial()"
   ]
  },
  {
   "cell_type": "code",
   "execution_count": 52,
   "metadata": {},
   "outputs": [],
   "source": [
    "m.put_in_pouch('doll')\n",
    "m.put_in_pouch('firetruck')\n",
    "m.put_in_pouch('kitten')"
   ]
  },
  {
   "cell_type": "code",
   "execution_count": 53,
   "metadata": {},
   "outputs": [
    {
     "data": {
      "text/plain": [
       "['doll', 'firetruck', 'kitten']"
      ]
     },
     "execution_count": 53,
     "metadata": {},
     "output_type": "execute_result"
    }
   ],
   "source": [
    "m.pouch_contents()"
   ]
  },
  {
   "cell_type": "code",
   "execution_count": 54,
   "metadata": {},
   "outputs": [],
   "source": [
    "k = Kangaroo(0,0)"
   ]
  },
  {
   "cell_type": "code",
   "execution_count": 55,
   "metadata": {},
   "outputs": [
    {
     "name": "stdout",
     "output_type": "stream",
     "text": [
      "I am a Kangaroo located at coordinates (0,0)\n"
     ]
    }
   ],
   "source": [
    "print(k)"
   ]
  },
  {
   "cell_type": "code",
   "execution_count": 56,
   "metadata": {},
   "outputs": [],
   "source": [
    "k.put_in_pouch('doll')\n",
    "k.put_in_pouch('firetruck')\n",
    "k.put_in_pouch('kitten')"
   ]
  },
  {
   "cell_type": "code",
   "execution_count": 57,
   "metadata": {},
   "outputs": [
    {
     "data": {
      "text/plain": [
       "['doll', 'firetruck', 'kitten']"
      ]
     },
     "execution_count": 57,
     "metadata": {},
     "output_type": "execute_result"
    }
   ],
   "source": [
    "k.pouch_contents()"
   ]
  },
  {
   "cell_type": "code",
   "execution_count": 58,
   "metadata": {},
   "outputs": [],
   "source": [
    "k.jump(1,0)\n",
    "k.jump(1,0)\n",
    "k.jump(1,0)"
   ]
  },
  {
   "cell_type": "code",
   "execution_count": 59,
   "metadata": {},
   "outputs": [
    {
     "name": "stdout",
     "output_type": "stream",
     "text": [
      "I am a Kangaroo located at coordinates (3,0)\n"
     ]
    }
   ],
   "source": [
    "print(k)"
   ]
  },
  {
   "cell_type": "markdown",
   "metadata": {},
   "source": [
    "_______________________________________________________________________________________________________________________________"
   ]
  },
  {
   "cell_type": "markdown",
   "metadata": {},
   "source": [
    "# Question 4\n",
    "Implement a new GUI class App that combines user-defined tkinter widget classes Calculator and Mortgage displayed below"
   ]
  },
  {
   "cell_type": "code",
   "execution_count": 30,
   "metadata": {},
   "outputs": [],
   "source": [
    "from tkinter import * \n",
    "import math\n",
    "\n",
    "\n",
    "\n",
    "root = Tk()\n",
    "calc = Frame(root)\n",
    "calc.grid()\n",
    "\n",
    "#display for the calculator\n",
    "root.title(\"Calculator\")\n",
    "text_box = Entry(calc, justify=RIGHT,width=30,font=\"Times 16 bold\")\n",
    "text_box.grid(row = 0, column = 0,columnspan = 10,padx=0, pady = 30)\n",
    "text_box.insert(0, \"0\")\n",
    "\n",
    "#Loan amont button and display\n",
    "text_box = Entry(calc, justify=RIGHT,width=25,font=\"Times 16 bold\")\n",
    "text_box.grid(row = 1, column = 6,columnspan = 10,padx=0, pady = 0)\n",
    "loanamount = Button(calc,height =1,width=17,padx=0, pady = 0, text = \"Loan Amount:\",bg=\"white\")\n",
    "loanamount.grid(row = 1, column = 7, padx=0, pady = 0)\n",
    "\n",
    "#Interest rate button and display\n",
    "text_box = Entry(calc, justify=RIGHT,width=25,font=\"Times 16 bold\")\n",
    "text_box.grid(row = 2, column = 6,columnspan = 10,padx=0, pady = 0)\n",
    "loanamount = Button(calc,height =1,width=17,padx=0, pady = 0, text = \"Interest Rate:\",bg=\"white\")\n",
    "loanamount.grid(row = 2, column = 7, padx=0, pady = 0)\n",
    "\n",
    "#Loan Terms button and display\n",
    "text_box = Entry(calc, justify=RIGHT,width=25,font=\"Times 16 bold\")\n",
    "text_box.grid(row = 3, column = 6,columnspan = 10,padx=0, pady = 0)\n",
    "loanamount = Button(calc,height =1,width=17,padx=0, pady = 0, text = \"Loan Terms:\",bg=\"white\")\n",
    "loanamount.grid(row = 3, column = 7, padx=0, pady = 0)\n",
    "\n",
    "#Compute Mortgage button and display\n",
    "text_box = Entry(calc, justify=RIGHT,width=25,font=\"Times 16 bold\")\n",
    "text_box.grid(row = 4, column = 6,columnspan = 10,padx=0, pady = 0)\n",
    "loanamount = Button(calc,height =1,width=17,padx=0, pady = 0, text = \"Compute Mortgage:\",bg=\"white\")\n",
    "loanamount.grid(row = 4, column = 7, padx=0, pady = 0)\n",
    "\n",
    "#number buttons for the calculator\n",
    "numbers = \"789456123\"\n",
    "i = 0\n",
    "bttn = []\n",
    "for j in range(1,4):\n",
    "    for k in range(3):\n",
    "        bttn.append(Button(calc,height =2,width=4,padx=10, pady = 10, text = numbers[i]))\n",
    "        bttn[i][\"bg\"]= \"white\"\n",
    "        bttn[i].grid(row = j, column = k,padx=1,pady=1)\n",
    "        \n",
    "        i += 1\n",
    "\n",
    "        \n",
    "#other buttons for the calculator\n",
    "bttn_0 = Button(calc,height =2,width=4,padx=10, pady = 10, text = \"0\",bg=\"white\")\n",
    "\n",
    "bttn_0.grid(row = 4, column = 1,  padx=1, pady = 1)\n",
    "\n",
    "div = Button(calc,height =2,width=4,padx=10, pady = 10, text = \"/\",bg=\"light blue\")\n",
    "\n",
    "div.grid(row = 1, column = 3, padx=1, pady = 1)\n",
    "\n",
    "mult = Button(calc,height =2,width=4,padx=10, pady = 10, text = \"*\",bg=\"light blue\")\n",
    "\n",
    "mult.grid(row = 2, column = 3,  padx=1, pady = 1)\n",
    "\n",
    "minus = Button(calc,height =2,width=4,padx=10, pady = 10, text = \"-\",bg=\"light blue\")\n",
    "\n",
    "minus.grid(row = 3, column = 3, padx=1, pady = 1)\n",
    "\n",
    "add = Button(calc,height =2,width=4,padx=10, pady = 10, text = \"+\",bg=\"light blue\")\n",
    "\n",
    "add.grid(row = 4, column = 3,  padx=1, pady = 1)\n",
    "\n",
    "point = Button(calc,height =2,width=4,padx=10, pady = 10, text = \".\",bg=\"grey\")\n",
    "\n",
    "point.grid(row = 4, column = 2, padx=1, pady = 1)\n",
    "\n",
    "neg= Button(calc,height =2,width=4,padx=10, pady = 10, text = \"+/-\",bg=\"grey\")\n",
    "neg.grid(row = 4, column = 0,  padx=1, pady = 1)\n",
    "\n",
    "clear = Button(calc,height =2,width=4,padx=10, pady = 10, text = \"C\",bg=\"grey\")\n",
    "\n",
    "clear.grid(row = 1, column = 4,  padx=1, pady = 1)\n",
    "\n",
    "all_clear = Button(calc,height =2,width=4,padx=10, pady = 10, text = \"AC\",bg=\"grey\")\n",
    "\n",
    "all_clear.grid(row = 2, column = 4, padx=1, pady = 1)\n",
    "\n",
    "equals = Button(calc,height =2,width=4,padx=10, pady = 10, text = \"=\",bg=\"light blue\")\n",
    "\n",
    "equals.grid(row = 5, column = 4,columnspan=1,rowspan=2,padx=1, pady = 1)\n",
    "\n",
    "mplus = Button(calc,height =2,width=4,padx=10, pady = 10, text = \"M+\",bg=\"light blue\")\n",
    "\n",
    "mplus.grid(row = 5, column = 2,columnspan=1,rowspan=2,padx=1, pady = 1)\n",
    "\n",
    "mrecall = Button(calc,height =2,width=4,padx=10, pady = 10, text = \"MR\",bg=\"light blue\")\n",
    "\n",
    "mrecall.grid(row = 5, column = 0,columnspan=1,rowspan=2,padx=1, pady = 1)\n",
    "\n",
    "mclear = Button(calc,height =2,width=4,padx=10, pady = 10, text = \"MC\",bg=\"light blue\")\n",
    "\n",
    "mclear.grid(row = 5, column = 1,columnspan=1,rowspan=2,padx=1, pady = 1)\n",
    "\n",
    "mminus = Button(calc,height =2,width=4,padx=10, pady = 10, text = \"M-\",bg=\"light blue\")\n",
    "\n",
    "mminus.grid(row = 5, column = 3,columnspan=1,rowspan=2,padx=1, pady = 1)\n",
    "\n",
    "sqroot = Button(calc,height =2,width=4,padx=10, pady = 10, text = \"√\",bg=\"light blue\")\n",
    "\n",
    "sqroot.grid(row = 3, column = 4, padx=1, pady = 1)\n",
    "\n",
    "power = Button(calc,height =2,width=4,padx=10, pady = 10, text = \"x^2\",bg=\"light blue\")\n",
    "\n",
    "power.grid(row = 4, column = 4, padx=1, pady = 1)\n"
   ]
  },
  {
   "cell_type": "code",
   "execution_count": 31,
   "metadata": {},
   "outputs": [],
   "source": [
    "root.mainloop()"
   ]
  },
  {
   "cell_type": "markdown",
   "metadata": {},
   "source": [
    "_______________________________________________________________________________________________________________________________"
   ]
  },
  {
   "cell_type": "markdown",
   "metadata": {},
   "source": [
    "# Question 5\n",
    "Write function collatz() that takes a positive integer x as input and prints the Collatz sequence starting at x. A Collatz sequence is obtained by repeatedly applying this rule to the previous number x in the sequence:x = 𝑥/2 𝑖𝑓 𝑥 𝑖𝑠 𝑒𝑣𝑒𝑛/ 3𝑥+1 𝑖𝑓 𝑥 𝑖𝑠 𝑜𝑑𝑑. Your function should stop when the sequence gets to number 1. Your implementation must be recursive, without any loops."
   ]
  },
  {
   "cell_type": "code",
   "execution_count": 157,
   "metadata": {},
   "outputs": [],
   "source": [
    "def collatz(x):defining a function collatz\n",
    "    if(x == 1): \n",
    "        return int(x) #using if statemment, we'll return the value 1 if the entered value of c is 11\n",
    "    elif (x % 2 == 0):\n",
    "        print(int(x))#else if, the value is even, we'll print the collatz series \n",
    "        collatz(x/2)\n",
    "    else:\n",
    "        print(int(x)) #else, the value is odd, we'll print the collatz series \n",
    "        collatz(3*x + 1 )\n"
   ]
  },
  {
   "cell_type": "code",
   "execution_count": 158,
   "metadata": {},
   "outputs": [
    {
     "data": {
      "text/plain": [
       "1"
      ]
     },
     "execution_count": 158,
     "metadata": {},
     "output_type": "execute_result"
    }
   ],
   "source": [
    "collatz(1)"
   ]
  },
  {
   "cell_type": "code",
   "execution_count": 155,
   "metadata": {},
   "outputs": [
    {
     "name": "stdout",
     "output_type": "stream",
     "text": [
      "10\n",
      "5\n",
      "16\n",
      "8\n",
      "4\n",
      "2\n",
      "1\n"
     ]
    }
   ],
   "source": [
    "collatz(10)"
   ]
  },
  {
   "cell_type": "markdown",
   "metadata": {},
   "source": [
    "_______________________________________________________________________________________________________________________________"
   ]
  },
  {
   "cell_type": "markdown",
   "metadata": {},
   "source": [
    "# Question 6\n",
    "Write a recursive method binary() that takes a non-negative integer n and prints the binary representation of integer n."
   ]
  },
  {
   "cell_type": "code",
   "execution_count": 72,
   "metadata": {},
   "outputs": [],
   "source": [
    "def binary(n): #defining a function called binary \n",
    "    if n > 1: #checking with if statement whether entered vallue is greater than 1\n",
    "        binary(n//2) #will return binary value of the entered number\n",
    "    print(n % 2,end = '') #printing the value of n, if n is 1 or 0 as binary oof 1 is 1 and 0 is 0"
   ]
  },
  {
   "cell_type": "code",
   "execution_count": 73,
   "metadata": {},
   "outputs": [
    {
     "name": "stdout",
     "output_type": "stream",
     "text": [
      "0"
     ]
    }
   ],
   "source": [
    "binary(0)"
   ]
  },
  {
   "cell_type": "code",
   "execution_count": 74,
   "metadata": {},
   "outputs": [
    {
     "name": "stdout",
     "output_type": "stream",
     "text": [
      "1"
     ]
    }
   ],
   "source": [
    "binary(1)"
   ]
  },
  {
   "cell_type": "code",
   "execution_count": 75,
   "metadata": {},
   "outputs": [
    {
     "name": "stdout",
     "output_type": "stream",
     "text": [
      "11"
     ]
    }
   ],
   "source": [
    "binary(3)"
   ]
  },
  {
   "cell_type": "code",
   "execution_count": 76,
   "metadata": {},
   "outputs": [
    {
     "name": "stdout",
     "output_type": "stream",
     "text": [
      "1001"
     ]
    }
   ],
   "source": [
    "binary(9)"
   ]
  },
  {
   "cell_type": "markdown",
   "metadata": {},
   "source": [
    "_______________________________________________________________________________________________________________________________"
   ]
  },
  {
   "cell_type": "markdown",
   "metadata": {},
   "source": [
    "# Question 7\n",
    "Implement a class named HeadingParser that can be used to parse an HTML document, and retrieve and print all the headings in the document. You should implement your class as a subclass of HTMLParser, defined in Standard Library module html.parser. When fed a string containing HTML code, your class should print the headings, one per line and in the order in which they appear in the document. Each heading should be indented as follows: an h1 heading should have indentation 0, and h2 heading should have indentation 1, etc. Test your implementation using w3c.html."
   ]
  },
  {
   "cell_type": "code",
   "execution_count": 20,
   "metadata": {},
   "outputs": [],
   "source": [
    "from html.parser import HTMLParser #importing HTMLParser\n",
    "\n",
    "class headingparser(HTMLParser): #initiating a class headingparser\n",
    "    def __init__(self): #defining a function init(self)\n",
    "        self.flag = False \n",
    "        self.indent = 0 #giving the indentation 0\n",
    "        self.stack = [] #stacking on self\n",
    "        super().__init__()\n",
    "\n",
    "    def handle_starttag(self, tag, attrs): #defining a funnction handle_starttag\n",
    "        if(tag[0] == 'h' and tag[1] <='6' and tag[1] > '0' and len(tag) == 2): #reading the start tag of each heading\n",
    "            self.stack.append(\"\") #appending to self\n",
    "\n",
    "    def handle_endtag(self, tag): #defining a function handle_endtag\n",
    "        if (tag[0] == 'h' and tag[1] <= '6' and tag[1] > '0' and len(tag) == 2): #reading the end tag of handle\n",
    "            indent = int(tag[1]) - 1  #indenting the tag\n",
    "            for i in range(0,indent):\n",
    "                print(\"\\t\",end=\"\")\n",
    "            print(self.stack.pop())\n",
    "\n",
    "    def handle_data(self, data): #defining a function handle_data\n",
    "        if(len(self.stack) != 0): #checking if the enght of the stack is not eqaul to 0\n",
    "            str = self.stack.pop() #poppping the string\n",
    "            str+=data #adding the data to string\n",
    "            self.stack.append(str) "
   ]
  },
  {
   "cell_type": "code",
   "execution_count": 11,
   "metadata": {},
   "outputs": [
    {
     "data": {
      "text/plain": [
       "'C:\\\\Users\\\\adilf'"
      ]
     },
     "execution_count": 11,
     "metadata": {},
     "output_type": "execute_result"
    }
   ],
   "source": [
    "pwd #checking the directory before reading the file"
   ]
  },
  {
   "cell_type": "code",
   "execution_count": 12,
   "metadata": {},
   "outputs": [
    {
     "name": "stdout",
     "output_type": "stream",
     "text": [
      "C:\\Users\\adilf\\Desktop\n"
     ]
    }
   ],
   "source": [
    "cd \\Users\\adilf\\Desktop #changing the directory to desktop"
   ]
  },
  {
   "cell_type": "code",
   "execution_count": 21,
   "metadata": {},
   "outputs": [
    {
     "name": "stdout",
     "output_type": "stream",
     "text": [
      "W3C Mission\n",
      "\tPrinciples\n"
     ]
    }
   ],
   "source": [
    "infile = open('w3c.html') #openin the file w3c.html\n",
    "content = infile.read() #assigning a variable to store the contents of the file\n",
    "infile.close() #closing the file\n",
    "hp = headingparser() #initiating a variable hp for function headingparser()\n",
    "hp.feed(content) #using hp variable to feed the contents of the file, we stored the file contents in variable content"
   ]
  },
  {
   "cell_type": "markdown",
   "metadata": {},
   "source": [
    "_______________________________________________________________________________________________________________________________"
   ]
  },
  {
   "cell_type": "markdown",
   "metadata": {},
   "source": [
    "# Question 8\n",
    "Implement recursive function webdir() that takes as input: a URL (as a string) and non-negative integers depth and indent. Your function should visit every web page reachable from the starting URL web page in depth clicks or less, and print each web page's URL. As shown below, indentation, specified by indent, should be used to indicate the depth of a URL."
   ]
  },
  {
   "cell_type": "code",
   "execution_count": 26,
   "metadata": {},
   "outputs": [],
   "source": [
    "from html.parser import HTMLParser #importing html parser\n",
    "from urllib.parse import urljoin #importing urljoin\n",
    "class Collector(HTMLParser): #defining a class Collector\n",
    "    def __init__(self,url):\n",
    "        HTMLParser.__init__(self)\n",
    "        self.url = url\n",
    "        self.links = []\n",
    "    def handle_startag(self,tag,attrs): \n",
    "        if tag == 'a':\n",
    "            for attr in attrs:\n",
    "                if attr[0] == 'href':\n",
    "                    absolute = urljoin(self.url,attr[1])\n",
    "                    if absolute[:4] == 'http':\n",
    "                        self.links.append(absolute)\n",
    "    def getLinks(self):\n",
    "        return self.links\n",
    "\n",
    "from urllib.request import urlopen \n",
    "def analyze(url):\n",
    "    content = urlopen(url).read().decode()\n",
    "    collector = Collector(url)\n",
    "    collector.feed(content)\n",
    "    return collector.getLinks()\n",
    "\n",
    "visited = set()\n",
    "def webdir(url,depth,indent): \n",
    "    global visited\n",
    "    if depth == 0:\n",
    "        return\n",
    "    print(' '*indent,url)\n",
    "    indent += 1\n",
    "    depth -= 1\n",
    "    visited.add(url)\n",
    "    links = analyze(url)\n",
    "    for link in links:\n",
    "        if link not in visited:\n",
    "            try:\n",
    "                webdir(link,depth,indent)\n",
    "            except:\n",
    "                pass"
   ]
  },
  {
   "cell_type": "code",
   "execution_count": 29,
   "metadata": {},
   "outputs": [
    {
     "name": "stdout",
     "output_type": "stream",
     "text": [
      " http://reed.cs.depaul.edu/lperkovic\n"
     ]
    }
   ],
   "source": [
    "webdir('http://reed.cs.depaul.edu/lperkovic', 2, 0) #URL \"http://reed.cs.depaul.edu/lperkovic/csc242/test1.html\" is not working, says 404 error. "
   ]
  },
  {
   "cell_type": "markdown",
   "metadata": {},
   "source": [
    "_______________________________________________________________________________________________________________________________"
   ]
  },
  {
   "cell_type": "markdown",
   "metadata": {},
   "source": [
    "# Question 9\n",
    "Write SQL queries on the below database table that return:\n",
    "A) All the temperature data.\n",
    "B) All the cities, but without repetition.\n",
    "C) All the records for India.\n",
    "D) All the Fall records.\n",
    "E) The city, country, and season for which the average rainfall is between 200 and 400 millimeters.\n",
    "F) The city and country for which the average Fall temperature is above 20 degrees, in increasing temperature order.\n",
    "G) The total annual rainfall for Cairo.\n",
    "H) The total rainfall for each season."
   ]
  },
  {
   "cell_type": "code",
   "execution_count": 1,
   "metadata": {},
   "outputs": [],
   "source": [
    "%load_ext sql "
   ]
  },
  {
   "cell_type": "code",
   "execution_count": 2,
   "metadata": {},
   "outputs": [],
   "source": [
    "%sql sqlite://"
   ]
  },
  {
   "cell_type": "code",
   "execution_count": null,
   "metadata": {},
   "outputs": [],
   "source": [
    "#Creating a table 'Rain' that contains columns 'City','Country','Season','Temperature'&'Rainfall' and also inserting values into the table."
   ]
  },
  {
   "cell_type": "code",
   "execution_count": 3,
   "metadata": {},
   "outputs": [
    {
     "name": "stdout",
     "output_type": "stream",
     "text": [
      " * sqlite://\n",
      "Done.\n",
      " * sqlite://\n",
      "1 rows affected.\n",
      " * sqlite://\n",
      "1 rows affected.\n",
      " * sqlite://\n",
      "1 rows affected.\n",
      " * sqlite://\n",
      "1 rows affected.\n",
      " * sqlite://\n",
      "1 rows affected.\n",
      " * sqlite://\n",
      "1 rows affected.\n",
      " * sqlite://\n",
      "1 rows affected.\n",
      " * sqlite://\n",
      "1 rows affected.\n",
      " * sqlite://\n",
      "1 rows affected.\n",
      " * sqlite://\n",
      "1 rows affected.\n",
      " * sqlite://\n",
      "1 rows affected.\n",
      " * sqlite://\n",
      "1 rows affected.\n"
     ]
    },
    {
     "data": {
      "text/plain": [
       "[]"
      ]
     },
     "execution_count": 3,
     "metadata": {},
     "output_type": "execute_result"
    }
   ],
   "source": [
    "%sql create table Rain(City varchar(100),Country varchar(100),Season varchar(100),Temperature_C float ,Rainfall_mm float );\n",
    "%sql insert into Rain values('Mumbai','India', 'Winter',24.8,5.9);\n",
    "%sql insert into Rain values('Mumbai','India', 'Spring',28.4,16.2);\n",
    "%sql insert into Rain values('Mumbai','India', 'Summer',27.9,1549.4);\n",
    "%sql insert into Rain values('Mumbai','India', 'Fall',27.6,346.0);\n",
    "%sql insert into Rain values('London','United Kingdom', 'Winter',4.2,207.7);\n",
    "%sql insert into Rain values('London','United Kingdom', 'Spring',8.3,169.6);\n",
    "%sql insert into Rain values('London','United Kingdom', 'Summer',15.7,157.0);\n",
    "%sql insert into Rain values('London','United Kingdom', 'Fall',10.4,218.5);\n",
    "%sql insert into Rain values('Cairo','Eqypt', 'Winter',13.6,16.5);\n",
    "%sql insert into Rain values('Cairo','Eqypt', 'Spring',20.7,6.5);\n",
    "%sql insert into Rain values('Cairo','Eqypt', 'Summer',27.7,0.1);\n",
    "%sql insert into Rain values('Cairo','Eqypt', 'Fall',22.2,4.5);"
   ]
  },
  {
   "cell_type": "code",
   "execution_count": 4,
   "metadata": {},
   "outputs": [
    {
     "name": "stdout",
     "output_type": "stream",
     "text": [
      " * sqlite://\n",
      "Done.\n"
     ]
    },
    {
     "data": {
      "text/html": [
       "<table>\n",
       "    <tr>\n",
       "        <th>City</th>\n",
       "        <th>Country</th>\n",
       "        <th>Season</th>\n",
       "        <th>Temperature_C</th>\n",
       "        <th>Rainfall_mm</th>\n",
       "    </tr>\n",
       "    <tr>\n",
       "        <td>Mumbai</td>\n",
       "        <td>India</td>\n",
       "        <td>Winter</td>\n",
       "        <td>24.8</td>\n",
       "        <td>5.9</td>\n",
       "    </tr>\n",
       "    <tr>\n",
       "        <td>Mumbai</td>\n",
       "        <td>India</td>\n",
       "        <td>Spring</td>\n",
       "        <td>28.4</td>\n",
       "        <td>16.2</td>\n",
       "    </tr>\n",
       "    <tr>\n",
       "        <td>Mumbai</td>\n",
       "        <td>India</td>\n",
       "        <td>Summer</td>\n",
       "        <td>27.9</td>\n",
       "        <td>1549.4</td>\n",
       "    </tr>\n",
       "    <tr>\n",
       "        <td>Mumbai</td>\n",
       "        <td>India</td>\n",
       "        <td>Fall</td>\n",
       "        <td>27.6</td>\n",
       "        <td>346.0</td>\n",
       "    </tr>\n",
       "    <tr>\n",
       "        <td>London</td>\n",
       "        <td>United Kingdom</td>\n",
       "        <td>Winter</td>\n",
       "        <td>4.2</td>\n",
       "        <td>207.7</td>\n",
       "    </tr>\n",
       "    <tr>\n",
       "        <td>London</td>\n",
       "        <td>United Kingdom</td>\n",
       "        <td>Spring</td>\n",
       "        <td>8.3</td>\n",
       "        <td>169.6</td>\n",
       "    </tr>\n",
       "    <tr>\n",
       "        <td>London</td>\n",
       "        <td>United Kingdom</td>\n",
       "        <td>Summer</td>\n",
       "        <td>15.7</td>\n",
       "        <td>157.0</td>\n",
       "    </tr>\n",
       "    <tr>\n",
       "        <td>London</td>\n",
       "        <td>United Kingdom</td>\n",
       "        <td>Fall</td>\n",
       "        <td>10.4</td>\n",
       "        <td>218.5</td>\n",
       "    </tr>\n",
       "    <tr>\n",
       "        <td>Cairo</td>\n",
       "        <td>Eqypt</td>\n",
       "        <td>Winter</td>\n",
       "        <td>13.6</td>\n",
       "        <td>16.5</td>\n",
       "    </tr>\n",
       "    <tr>\n",
       "        <td>Cairo</td>\n",
       "        <td>Eqypt</td>\n",
       "        <td>Spring</td>\n",
       "        <td>20.7</td>\n",
       "        <td>6.5</td>\n",
       "    </tr>\n",
       "    <tr>\n",
       "        <td>Cairo</td>\n",
       "        <td>Eqypt</td>\n",
       "        <td>Summer</td>\n",
       "        <td>27.7</td>\n",
       "        <td>0.1</td>\n",
       "    </tr>\n",
       "    <tr>\n",
       "        <td>Cairo</td>\n",
       "        <td>Eqypt</td>\n",
       "        <td>Fall</td>\n",
       "        <td>22.2</td>\n",
       "        <td>4.5</td>\n",
       "    </tr>\n",
       "</table>"
      ],
      "text/plain": [
       "[('Mumbai', 'India', 'Winter', 24.8, 5.9),\n",
       " ('Mumbai', 'India', 'Spring', 28.4, 16.2),\n",
       " ('Mumbai', 'India', 'Summer', 27.9, 1549.4),\n",
       " ('Mumbai', 'India', 'Fall', 27.6, 346.0),\n",
       " ('London', 'United Kingdom', 'Winter', 4.2, 207.7),\n",
       " ('London', 'United Kingdom', 'Spring', 8.3, 169.6),\n",
       " ('London', 'United Kingdom', 'Summer', 15.7, 157.0),\n",
       " ('London', 'United Kingdom', 'Fall', 10.4, 218.5),\n",
       " ('Cairo', 'Eqypt', 'Winter', 13.6, 16.5),\n",
       " ('Cairo', 'Eqypt', 'Spring', 20.7, 6.5),\n",
       " ('Cairo', 'Eqypt', 'Summer', 27.7, 0.1),\n",
       " ('Cairo', 'Eqypt', 'Fall', 22.2, 4.5)]"
      ]
     },
     "execution_count": 4,
     "metadata": {},
     "output_type": "execute_result"
    }
   ],
   "source": [
    "%sql SELECT * FROM Rain; #Calling the table to chek the content"
   ]
  },
  {
   "cell_type": "markdown",
   "metadata": {},
   "source": [
    "A) All the temperature data."
   ]
  },
  {
   "cell_type": "code",
   "execution_count": 5,
   "metadata": {},
   "outputs": [
    {
     "name": "stdout",
     "output_type": "stream",
     "text": [
      " * sqlite://\n",
      "Done.\n"
     ]
    },
    {
     "data": {
      "text/html": [
       "<table>\n",
       "    <tr>\n",
       "        <th>Temperature_C</th>\n",
       "    </tr>\n",
       "    <tr>\n",
       "        <td>24.8</td>\n",
       "    </tr>\n",
       "    <tr>\n",
       "        <td>28.4</td>\n",
       "    </tr>\n",
       "    <tr>\n",
       "        <td>27.9</td>\n",
       "    </tr>\n",
       "    <tr>\n",
       "        <td>27.6</td>\n",
       "    </tr>\n",
       "    <tr>\n",
       "        <td>4.2</td>\n",
       "    </tr>\n",
       "    <tr>\n",
       "        <td>8.3</td>\n",
       "    </tr>\n",
       "    <tr>\n",
       "        <td>15.7</td>\n",
       "    </tr>\n",
       "    <tr>\n",
       "        <td>10.4</td>\n",
       "    </tr>\n",
       "    <tr>\n",
       "        <td>13.6</td>\n",
       "    </tr>\n",
       "    <tr>\n",
       "        <td>20.7</td>\n",
       "    </tr>\n",
       "    <tr>\n",
       "        <td>27.7</td>\n",
       "    </tr>\n",
       "    <tr>\n",
       "        <td>22.2</td>\n",
       "    </tr>\n",
       "</table>"
      ],
      "text/plain": [
       "[(24.8,),\n",
       " (28.4,),\n",
       " (27.9,),\n",
       " (27.6,),\n",
       " (4.2,),\n",
       " (8.3,),\n",
       " (15.7,),\n",
       " (10.4,),\n",
       " (13.6,),\n",
       " (20.7,),\n",
       " (27.7,),\n",
       " (22.2,)]"
      ]
     },
     "execution_count": 5,
     "metadata": {},
     "output_type": "execute_result"
    }
   ],
   "source": [
    "%sql select Temperature_C from Rain; #selecting only the temperature column from the table "
   ]
  },
  {
   "cell_type": "markdown",
   "metadata": {},
   "source": [
    "B) All the cities, but without repetition."
   ]
  },
  {
   "cell_type": "code",
   "execution_count": 88,
   "metadata": {},
   "outputs": [
    {
     "name": "stdout",
     "output_type": "stream",
     "text": [
      " * sqlite://\n",
      "Done.\n"
     ]
    },
    {
     "data": {
      "text/html": [
       "<table>\n",
       "    <tr>\n",
       "        <th>City</th>\n",
       "    </tr>\n",
       "    <tr>\n",
       "        <td>Cairo</td>\n",
       "    </tr>\n",
       "    <tr>\n",
       "        <td>London</td>\n",
       "    </tr>\n",
       "    <tr>\n",
       "        <td>Mumbai</td>\n",
       "    </tr>\n",
       "</table>"
      ],
      "text/plain": [
       "[('Cairo',), ('London',), ('Mumbai',)]"
      ]
     },
     "execution_count": 88,
     "metadata": {},
     "output_type": "execute_result"
    }
   ],
   "source": [
    "%sql select City from Rain group by City; #groping cities from the column City"
   ]
  },
  {
   "cell_type": "markdown",
   "metadata": {},
   "source": [
    "C) All the records for India."
   ]
  },
  {
   "cell_type": "code",
   "execution_count": 6,
   "metadata": {},
   "outputs": [
    {
     "name": "stdout",
     "output_type": "stream",
     "text": [
      " * sqlite://\n",
      "Done.\n"
     ]
    },
    {
     "data": {
      "text/html": [
       "<table>\n",
       "    <tr>\n",
       "        <th>City</th>\n",
       "        <th>Country</th>\n",
       "        <th>Season</th>\n",
       "        <th>Temperature_C</th>\n",
       "        <th>Rainfall_mm</th>\n",
       "    </tr>\n",
       "    <tr>\n",
       "        <td>Mumbai</td>\n",
       "        <td>India</td>\n",
       "        <td>Winter</td>\n",
       "        <td>24.8</td>\n",
       "        <td>5.9</td>\n",
       "    </tr>\n",
       "    <tr>\n",
       "        <td>Mumbai</td>\n",
       "        <td>India</td>\n",
       "        <td>Spring</td>\n",
       "        <td>28.4</td>\n",
       "        <td>16.2</td>\n",
       "    </tr>\n",
       "    <tr>\n",
       "        <td>Mumbai</td>\n",
       "        <td>India</td>\n",
       "        <td>Summer</td>\n",
       "        <td>27.9</td>\n",
       "        <td>1549.4</td>\n",
       "    </tr>\n",
       "    <tr>\n",
       "        <td>Mumbai</td>\n",
       "        <td>India</td>\n",
       "        <td>Fall</td>\n",
       "        <td>27.6</td>\n",
       "        <td>346.0</td>\n",
       "    </tr>\n",
       "</table>"
      ],
      "text/plain": [
       "[('Mumbai', 'India', 'Winter', 24.8, 5.9),\n",
       " ('Mumbai', 'India', 'Spring', 28.4, 16.2),\n",
       " ('Mumbai', 'India', 'Summer', 27.9, 1549.4),\n",
       " ('Mumbai', 'India', 'Fall', 27.6, 346.0)]"
      ]
     },
     "execution_count": 6,
     "metadata": {},
     "output_type": "execute_result"
    }
   ],
   "source": [
    "%sql select * from Rain where Country = 'India'; #selecting the data from table, specific to country \"India\""
   ]
  },
  {
   "cell_type": "markdown",
   "metadata": {},
   "source": [
    "D) All the Fall records."
   ]
  },
  {
   "cell_type": "code",
   "execution_count": 7,
   "metadata": {},
   "outputs": [
    {
     "name": "stdout",
     "output_type": "stream",
     "text": [
      " * sqlite://\n",
      "Done.\n"
     ]
    },
    {
     "data": {
      "text/html": [
       "<table>\n",
       "    <tr>\n",
       "        <th>City</th>\n",
       "        <th>Country</th>\n",
       "        <th>Season</th>\n",
       "        <th>Temperature_C</th>\n",
       "        <th>Rainfall_mm</th>\n",
       "    </tr>\n",
       "    <tr>\n",
       "        <td>Mumbai</td>\n",
       "        <td>India</td>\n",
       "        <td>Fall</td>\n",
       "        <td>27.6</td>\n",
       "        <td>346.0</td>\n",
       "    </tr>\n",
       "    <tr>\n",
       "        <td>London</td>\n",
       "        <td>United Kingdom</td>\n",
       "        <td>Fall</td>\n",
       "        <td>10.4</td>\n",
       "        <td>218.5</td>\n",
       "    </tr>\n",
       "    <tr>\n",
       "        <td>Cairo</td>\n",
       "        <td>Eqypt</td>\n",
       "        <td>Fall</td>\n",
       "        <td>22.2</td>\n",
       "        <td>4.5</td>\n",
       "    </tr>\n",
       "</table>"
      ],
      "text/plain": [
       "[('Mumbai', 'India', 'Fall', 27.6, 346.0),\n",
       " ('London', 'United Kingdom', 'Fall', 10.4, 218.5),\n",
       " ('Cairo', 'Eqypt', 'Fall', 22.2, 4.5)]"
      ]
     },
     "execution_count": 7,
     "metadata": {},
     "output_type": "execute_result"
    }
   ],
   "source": [
    "%sql select * from Rain where Season = 'Fall'; #selecting data from the table specific to \"Fall\" season."
   ]
  },
  {
   "cell_type": "markdown",
   "metadata": {},
   "source": [
    "E) The city, country, and season for which the average rainfall is between 200 and 400 millimeters."
   ]
  },
  {
   "cell_type": "code",
   "execution_count": 8,
   "metadata": {},
   "outputs": [
    {
     "name": "stdout",
     "output_type": "stream",
     "text": [
      " * sqlite://\n",
      "Done.\n"
     ]
    },
    {
     "data": {
      "text/html": [
       "<table>\n",
       "    <tr>\n",
       "        <th>City</th>\n",
       "        <th>Country</th>\n",
       "        <th>Season</th>\n",
       "        <th>Rainfall_mm</th>\n",
       "    </tr>\n",
       "    <tr>\n",
       "        <td>Mumbai</td>\n",
       "        <td>India</td>\n",
       "        <td>Fall</td>\n",
       "        <td>346.0</td>\n",
       "    </tr>\n",
       "    <tr>\n",
       "        <td>London</td>\n",
       "        <td>United Kingdom</td>\n",
       "        <td>Winter</td>\n",
       "        <td>207.7</td>\n",
       "    </tr>\n",
       "    <tr>\n",
       "        <td>London</td>\n",
       "        <td>United Kingdom</td>\n",
       "        <td>Fall</td>\n",
       "        <td>218.5</td>\n",
       "    </tr>\n",
       "</table>"
      ],
      "text/plain": [
       "[('Mumbai', 'India', 'Fall', 346.0),\n",
       " ('London', 'United Kingdom', 'Winter', 207.7),\n",
       " ('London', 'United Kingdom', 'Fall', 218.5)]"
      ]
     },
     "execution_count": 8,
     "metadata": {},
     "output_type": "execute_result"
    }
   ],
   "source": [
    "%sql select City, Country,Season,Rainfall_mm from Rain where Rainfall_mm between 200 and 400; \n",
    "#selecting city, country & season for rainfall betwee 200 & 400"
   ]
  },
  {
   "cell_type": "markdown",
   "metadata": {},
   "source": [
    "F) The city and country for which the average Fall temperature is above 20 degrees, in increasing temperature order."
   ]
  },
  {
   "cell_type": "code",
   "execution_count": 92,
   "metadata": {},
   "outputs": [
    {
     "name": "stdout",
     "output_type": "stream",
     "text": [
      " * sqlite://\n",
      "Done.\n"
     ]
    },
    {
     "data": {
      "text/html": [
       "<table>\n",
       "    <tr>\n",
       "        <th>City</th>\n",
       "        <th>Country</th>\n",
       "    </tr>\n",
       "    <tr>\n",
       "        <td>Cairo</td>\n",
       "        <td>Eqypt</td>\n",
       "    </tr>\n",
       "    <tr>\n",
       "        <td>Mumbai</td>\n",
       "        <td>India</td>\n",
       "    </tr>\n",
       "</table>"
      ],
      "text/plain": [
       "[('Cairo', 'Eqypt'), ('Mumbai', 'India')]"
      ]
     },
     "execution_count": 92,
     "metadata": {},
     "output_type": "execute_result"
    }
   ],
   "source": [
    "%sql select City, Country from Rain where Season = 'Fall' and Temperature > 20 order by Temperature;\n",
    "#selecting city & country with avg temperature greater than 20"
   ]
  },
  {
   "cell_type": "markdown",
   "metadata": {},
   "source": [
    "G) The total annual rainfall for Cairo."
   ]
  },
  {
   "cell_type": "code",
   "execution_count": 9,
   "metadata": {},
   "outputs": [
    {
     "name": "stdout",
     "output_type": "stream",
     "text": [
      " * sqlite://\n",
      "Done.\n"
     ]
    },
    {
     "data": {
      "text/html": [
       "<table>\n",
       "    <tr>\n",
       "        <th>sum(Rainfall_mm)</th>\n",
       "    </tr>\n",
       "    <tr>\n",
       "        <td>27.6</td>\n",
       "    </tr>\n",
       "</table>"
      ],
      "text/plain": [
       "[(27.6,)]"
      ]
     },
     "execution_count": 9,
     "metadata": {},
     "output_type": "execute_result"
    }
   ],
   "source": [
    "%sql select sum(Rainfall_mm) from Rain where City = 'Cairo'; #selecting and summing total rainfall for cairo"
   ]
  },
  {
   "cell_type": "markdown",
   "metadata": {},
   "source": [
    "H) The total rainfall for each season."
   ]
  },
  {
   "cell_type": "code",
   "execution_count": 10,
   "metadata": {},
   "outputs": [
    {
     "name": "stdout",
     "output_type": "stream",
     "text": [
      " * sqlite://\n",
      "Done.\n"
     ]
    },
    {
     "data": {
      "text/html": [
       "<table>\n",
       "    <tr>\n",
       "        <th>Season</th>\n",
       "        <th>sum(Rainfall_mm)</th>\n",
       "    </tr>\n",
       "    <tr>\n",
       "        <td>Fall</td>\n",
       "        <td>569.0</td>\n",
       "    </tr>\n",
       "    <tr>\n",
       "        <td>Spring</td>\n",
       "        <td>192.29999999999998</td>\n",
       "    </tr>\n",
       "    <tr>\n",
       "        <td>Summer</td>\n",
       "        <td>1706.5</td>\n",
       "    </tr>\n",
       "    <tr>\n",
       "        <td>Winter</td>\n",
       "        <td>230.1</td>\n",
       "    </tr>\n",
       "</table>"
      ],
      "text/plain": [
       "[('Fall', 569.0),\n",
       " ('Spring', 192.29999999999998),\n",
       " ('Summer', 1706.5),\n",
       " ('Winter', 230.1)]"
      ]
     },
     "execution_count": 10,
     "metadata": {},
     "output_type": "execute_result"
    }
   ],
   "source": [
    "%sql select Season, sum(Rainfall_mm) from Rain group by Season; #selecting total rainfall for every season."
   ]
  },
  {
   "cell_type": "markdown",
   "metadata": {},
   "source": [
    "_______________________________________________________________________________________________________________________________"
   ]
  },
  {
   "cell_type": "markdown",
   "metadata": {},
   "source": [
    "# Question 10\n",
    "Suppose list words is defined as follows:\n",
    "words = ['The', 'quick', 'brown', 'fox', 'jumps', 'over', 'the', 'lazy', 'dog']\n",
    "Write list comprehension expressions that use list words and generate the following:\n",
    "A) Upper case,\n",
    "B) Lower case,\n",
    "C) Length of each word,\n",
    "D) Combination of upper case, lower case & length of each word,\n",
    "E) Words in the list 'words' which have more than 4 character."
   ]
  },
  {
   "cell_type": "code",
   "execution_count": 95,
   "metadata": {},
   "outputs": [],
   "source": [
    "words = ['The', 'quick', 'brown', 'fox', 'jumps', 'over', 'the', 'lazy', 'dog'] #initiating a list with words"
   ]
  },
  {
   "cell_type": "code",
   "execution_count": 96,
   "metadata": {},
   "outputs": [
    {
     "data": {
      "text/plain": [
       "['The', 'quick', 'brown', 'fox', 'jumps', 'over', 'the', 'lazy', 'dog']"
      ]
     },
     "execution_count": 96,
     "metadata": {},
     "output_type": "execute_result"
    }
   ],
   "source": [
    "words #showing the list"
   ]
  },
  {
   "cell_type": "markdown",
   "metadata": {},
   "source": [
    "A) Print list in upper chase"
   ]
  },
  {
   "cell_type": "code",
   "execution_count": 98,
   "metadata": {},
   "outputs": [
    {
     "name": "stdout",
     "output_type": "stream",
     "text": [
      "['THE', 'QUICK', 'BROWN', 'FOX', 'JUMPS', 'OVER', 'THE', 'LAZY', 'DOG']\n"
     ]
    }
   ],
   "source": [
    "caps = [word.upper() for word in words] #converting the contents of list to upper case\n",
    "print(caps)"
   ]
  },
  {
   "cell_type": "markdown",
   "metadata": {},
   "source": [
    "B) Print list in lower chase"
   ]
  },
  {
   "cell_type": "code",
   "execution_count": 99,
   "metadata": {},
   "outputs": [
    {
     "name": "stdout",
     "output_type": "stream",
     "text": [
      "['the', 'quick', 'brown', 'fox', 'jumps', 'over', 'the', 'lazy', 'dog']\n"
     ]
    }
   ],
   "source": [
    "caps = [word.lower() for word in words] #converting the contents of list to lower case\n",
    "print(caps)"
   ]
  },
  {
   "cell_type": "markdown",
   "metadata": {},
   "source": [
    "C) Print length of each word in the list 'words'"
   ]
  },
  {
   "cell_type": "code",
   "execution_count": 102,
   "metadata": {},
   "outputs": [
    {
     "name": "stdout",
     "output_type": "stream",
     "text": [
      "[3, 5, 5, 3, 5, 4, 3, 4, 3]\n"
     ]
    }
   ],
   "source": [
    "length = [len(word) for word in words] #printing the length of each word in the list\n",
    "print(length)"
   ]
  },
  {
   "cell_type": "markdown",
   "metadata": {},
   "source": [
    "D) Print combination of upper, lower and length of each word in list 'words'"
   ]
  },
  {
   "cell_type": "code",
   "execution_count": 100,
   "metadata": {},
   "outputs": [
    {
     "name": "stdout",
     "output_type": "stream",
     "text": [
      "[['THE', 'the', 3], ['QUICK', 'quick', 5], ['BROWN', 'brown', 5], ['FOX', 'fox', 3], ['JUMPS', 'jumps', 5], ['OVER', 'over', 4], ['THE', 'the', 3], ['LAZY', 'lazy', 4], ['DOG', 'dog', 3]]\n"
     ]
    }
   ],
   "source": [
    "LowerUpperLen = [[w.upper(), w.lower() , len(w)] for w in words] #printing the combination of upper case, lower case & length of the words in the list\n",
    "print(LowerUpperLen)"
   ]
  },
  {
   "cell_type": "markdown",
   "metadata": {},
   "source": [
    "E) Print words in the list 'words' which have more than 4 character"
   ]
  },
  {
   "cell_type": "code",
   "execution_count": 101,
   "metadata": {},
   "outputs": [
    {
     "name": "stdout",
     "output_type": "stream",
     "text": [
      "['quick', 'brown', 'jumps', 'over', 'lazy']\n"
     ]
    }
   ],
   "source": [
    "FourChar = [w for w in words if len(w) > 3] #printing the words in list whose length is 4 or more\n",
    "print(FourChar) "
   ]
  },
  {
   "cell_type": "markdown",
   "metadata": {},
   "source": [
    "_______________________________________________________________________________________________________________________________"
   ]
  }
 ],
 "metadata": {
  "kernelspec": {
   "display_name": "Python 3",
   "language": "python",
   "name": "python3"
  },
  "language_info": {
   "codemirror_mode": {
    "name": "ipython",
    "version": 3
   },
   "file_extension": ".py",
   "mimetype": "text/x-python",
   "name": "python",
   "nbconvert_exporter": "python",
   "pygments_lexer": "ipython3",
   "version": "3.8.3"
  }
 },
 "nbformat": 4,
 "nbformat_minor": 4
}
